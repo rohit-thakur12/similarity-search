{
  "nbformat": 4,
  "nbformat_minor": 0,
  "metadata": {
    "colab": {
      "name": "SimilaritySearch.ipynb",
      "provenance": []
    },
    "kernelspec": {
      "name": "python3",
      "display_name": "Python 3"
    },
    "language_info": {
      "name": "python"
    },
    "widgets": {
      "application/vnd.jupyter.widget-state+json": {
        "7704505c743c4ba5ba3c07938eedb562": {
          "model_module": "@jupyter-widgets/controls",
          "model_name": "HBoxModel",
          "model_module_version": "1.5.0",
          "state": {
            "_view_name": "HBoxView",
            "_dom_classes": [],
            "_model_name": "HBoxModel",
            "_view_module": "@jupyter-widgets/controls",
            "_model_module_version": "1.5.0",
            "_view_count": null,
            "_view_module_version": "1.5.0",
            "box_style": "",
            "layout": "IPY_MODEL_2d0ec4cdaf374b00bc2d11c1c5e2fe3d",
            "_model_module": "@jupyter-widgets/controls",
            "children": [
              "IPY_MODEL_ed6c4489935f4698a192de9706605c85",
              "IPY_MODEL_80ca78e4c2ea42838f7c38ae3763c748",
              "IPY_MODEL_2a828777093b4736a3bbeeeb3f627bf0"
            ]
          }
        },
        "05e33e669a7940c4b1c9ac66c2ac4f60": {
          "model_module": "@jupyter-widgets/controls",
          "model_name": "HBoxModel",
          "model_module_version": "1.5.0",
          "state": {
            "_view_name": "HBoxView",
            "_dom_classes": [],
            "_model_name": "HBoxModel",
            "_view_module": "@jupyter-widgets/controls",
            "_model_module_version": "1.5.0",
            "_view_count": null,
            "_view_module_version": "1.5.0",
            "box_style": "",
            "layout": "IPY_MODEL_5559cffb0b734c8ebc65c9d47bc1b4c3",
            "_model_module": "@jupyter-widgets/controls",
            "children": [
              "IPY_MODEL_07fd4a8af13546cd8c0dbb693c188bee",
              "IPY_MODEL_6f661bf9ee7f41779075095ce1ad1694",
              "IPY_MODEL_0f15c253e92944f3bf830976fc37d243"
            ]
          }
        },
        "6e6834cccaa44a0ca1c6c0a08b83f2c9": {
          "model_module": "@jupyter-widgets/controls",
          "model_name": "HBoxModel",
          "model_module_version": "1.5.0",
          "state": {
            "_view_name": "HBoxView",
            "_dom_classes": [],
            "_model_name": "HBoxModel",
            "_view_module": "@jupyter-widgets/controls",
            "_model_module_version": "1.5.0",
            "_view_count": null,
            "_view_module_version": "1.5.0",
            "box_style": "",
            "layout": "IPY_MODEL_3b011c47568146489cc020bada3046c5",
            "_model_module": "@jupyter-widgets/controls",
            "children": [
              "IPY_MODEL_bd94d60d26674287bc5d11b65195c02f",
              "IPY_MODEL_9abffbb744674fb9a840a0d1fff61f82",
              "IPY_MODEL_be67d52fbfff4093b578c40a4d743dd9"
            ]
          }
        },
        "9f09e12610ad4ea68b1ff4b5467614cd": {
          "model_module": "@jupyter-widgets/controls",
          "model_name": "HBoxModel",
          "model_module_version": "1.5.0",
          "state": {
            "_view_name": "HBoxView",
            "_dom_classes": [],
            "_model_name": "HBoxModel",
            "_view_module": "@jupyter-widgets/controls",
            "_model_module_version": "1.5.0",
            "_view_count": null,
            "_view_module_version": "1.5.0",
            "box_style": "",
            "layout": "IPY_MODEL_e59809b66eb149d9a24daf2cf7266921",
            "_model_module": "@jupyter-widgets/controls",
            "children": [
              "IPY_MODEL_0f5e31a9967b43d1932e24ea81e76516",
              "IPY_MODEL_3c6035396b444f928bf53b95aad5ff40",
              "IPY_MODEL_d2975e3570ad4f559a7bcaf9a7944e37"
            ]
          }
        },
        "08fb86307eee4ea2a5cb8e0697b037d9": {
          "model_module": "@jupyter-widgets/controls",
          "model_name": "HBoxModel",
          "model_module_version": "1.5.0",
          "state": {
            "_view_name": "HBoxView",
            "_dom_classes": [],
            "_model_name": "HBoxModel",
            "_view_module": "@jupyter-widgets/controls",
            "_model_module_version": "1.5.0",
            "_view_count": null,
            "_view_module_version": "1.5.0",
            "box_style": "",
            "layout": "IPY_MODEL_caf53aed3cd1442a94e9b29d6dc6c2cf",
            "_model_module": "@jupyter-widgets/controls",
            "children": [
              "IPY_MODEL_64e50769634a48f0add049a8feb386f0",
              "IPY_MODEL_82d2319154fd4803ada9a44c512065f5",
              "IPY_MODEL_ee40ff3108e74b80af858ff8e67b38e3"
            ]
          }
        },
        "c2062a5c33c04852b85d698c565532a0": {
          "model_module": "@jupyter-widgets/controls",
          "model_name": "HBoxModel",
          "model_module_version": "1.5.0",
          "state": {
            "_view_name": "HBoxView",
            "_dom_classes": [],
            "_model_name": "HBoxModel",
            "_view_module": "@jupyter-widgets/controls",
            "_model_module_version": "1.5.0",
            "_view_count": null,
            "_view_module_version": "1.5.0",
            "box_style": "",
            "layout": "IPY_MODEL_c26e089e8f2d49b6bc5effd1de4ccdae",
            "_model_module": "@jupyter-widgets/controls",
            "children": [
              "IPY_MODEL_002204b1ab7d47d39434af1510f25abf",
              "IPY_MODEL_4c646c67bb9b42aebdfc05c5b50c39fe",
              "IPY_MODEL_389ce5afecf24fcc88a13cc569b534cc"
            ]
          }
        },
        "1f2034d3094f4fcea93df03d668f4853": {
          "model_module": "@jupyter-widgets/controls",
          "model_name": "HBoxModel",
          "model_module_version": "1.5.0",
          "state": {
            "_view_name": "HBoxView",
            "_dom_classes": [],
            "_model_name": "HBoxModel",
            "_view_module": "@jupyter-widgets/controls",
            "_model_module_version": "1.5.0",
            "_view_count": null,
            "_view_module_version": "1.5.0",
            "box_style": "",
            "layout": "IPY_MODEL_eb64c0af24ec484d804b344d5362be99",
            "_model_module": "@jupyter-widgets/controls",
            "children": [
              "IPY_MODEL_e483a8186c224d57a4840471de9da099",
              "IPY_MODEL_407c96c100ea4e39ab407a3e47407505",
              "IPY_MODEL_c105a63d98b14d85908b0ab3b965ab29"
            ]
          }
        },
        "e338ca0ddecc441e9a0b6117437a508c": {
          "model_module": "@jupyter-widgets/controls",
          "model_name": "HBoxModel",
          "model_module_version": "1.5.0",
          "state": {
            "_view_name": "HBoxView",
            "_dom_classes": [],
            "_model_name": "HBoxModel",
            "_view_module": "@jupyter-widgets/controls",
            "_model_module_version": "1.5.0",
            "_view_count": null,
            "_view_module_version": "1.5.0",
            "box_style": "",
            "layout": "IPY_MODEL_96b0587d58a746c3b727b60d2e95b603",
            "_model_module": "@jupyter-widgets/controls",
            "children": [
              "IPY_MODEL_5d11470d176545e5910fa013b568b5fb",
              "IPY_MODEL_8a69acf7142949e5bab7634d7bd2d8a6",
              "IPY_MODEL_6eb9b7bf0c03454e9a6b1c98d8631db5"
            ]
          }
        },
        "e6131a9fb56849e49b65f221765d60a2": {
          "model_module": "@jupyter-widgets/controls",
          "model_name": "HBoxModel",
          "model_module_version": "1.5.0",
          "state": {
            "_view_name": "HBoxView",
            "_dom_classes": [],
            "_model_name": "HBoxModel",
            "_view_module": "@jupyter-widgets/controls",
            "_model_module_version": "1.5.0",
            "_view_count": null,
            "_view_module_version": "1.5.0",
            "box_style": "",
            "layout": "IPY_MODEL_cb8e9e53fa5044f2b6b028de1b80877b",
            "_model_module": "@jupyter-widgets/controls",
            "children": [
              "IPY_MODEL_b8031fed87e74e209ab703dcc89c0ee1",
              "IPY_MODEL_7a95075b635648b1a3ce876d7073692e",
              "IPY_MODEL_17e835e5e63546f78d96a7abb95b5e9c"
            ]
          }
        },
        "6c63537574334817a6690627a7f18b68": {
          "model_module": "@jupyter-widgets/controls",
          "model_name": "HBoxModel",
          "model_module_version": "1.5.0",
          "state": {
            "_view_name": "HBoxView",
            "_dom_classes": [],
            "_model_name": "HBoxModel",
            "_view_module": "@jupyter-widgets/controls",
            "_model_module_version": "1.5.0",
            "_view_count": null,
            "_view_module_version": "1.5.0",
            "box_style": "",
            "layout": "IPY_MODEL_9489aec8dd5749e99818e8dce40a6b62",
            "_model_module": "@jupyter-widgets/controls",
            "children": [
              "IPY_MODEL_0d9a7425afe6416d8dd51609ea927147",
              "IPY_MODEL_27343093b135400cb87a8f2c72b8bf46",
              "IPY_MODEL_7065b60d41da4271a992716ebde49bbf"
            ]
          }
        },
        "4eebc04a364c4daca0a43b048cb4c8fa": {
          "model_module": "@jupyter-widgets/controls",
          "model_name": "HBoxModel",
          "model_module_version": "1.5.0",
          "state": {
            "_view_name": "HBoxView",
            "_dom_classes": [],
            "_model_name": "HBoxModel",
            "_view_module": "@jupyter-widgets/controls",
            "_model_module_version": "1.5.0",
            "_view_count": null,
            "_view_module_version": "1.5.0",
            "box_style": "",
            "layout": "IPY_MODEL_4a99c910bcf546af812863961630d576",
            "_model_module": "@jupyter-widgets/controls",
            "children": [
              "IPY_MODEL_4609ab9c1be342f9bde32c2c250154a9",
              "IPY_MODEL_1c9d7e05d0ee4ddfaf9d62b4112c7c70",
              "IPY_MODEL_6e2556f26eff49158729da9fadfc9681"
            ]
          }
        },
        "9e0d675919a0439b80f6f1d27acc16e9": {
          "model_module": "@jupyter-widgets/controls",
          "model_name": "HBoxModel",
          "model_module_version": "1.5.0",
          "state": {
            "_view_name": "HBoxView",
            "_dom_classes": [],
            "_model_name": "HBoxModel",
            "_view_module": "@jupyter-widgets/controls",
            "_model_module_version": "1.5.0",
            "_view_count": null,
            "_view_module_version": "1.5.0",
            "box_style": "",
            "layout": "IPY_MODEL_d08c66dacd3c41f985a9c18e0c1e6e6a",
            "_model_module": "@jupyter-widgets/controls",
            "children": [
              "IPY_MODEL_497ffc9d363e420fa2bd1d6941236fbb",
              "IPY_MODEL_739fd7d2608144b6aab1e9fd2a3da89f",
              "IPY_MODEL_9610394c4ff04ac6b37f4d7cd6b588cb"
            ]
          }
        }
      }
    }
  },
  "cells": [
    {
      "cell_type": "code",
      "execution_count": 50,
      "metadata": {
        "id": "1uqNcREH5pMo"
      },
      "outputs": [],
      "source": [
        "# Sentences: \n",
        "\n",
        "a = \"She found his complete dullness interesting.\"\n",
        "b = \"He learned the important lesson that a picnic at the beach on a windy day is a bad idea.\"\n",
        "c = \"When nobody is around, the trees gossip about the people who have walked under them.\""
      ]
    },
    {
      "cell_type": "code",
      "source": [
        "# Jaccard\n",
        "\n",
        "def jaccard(x: str, y: str) -> int:\n",
        "  x = set(x.split())\n",
        "  y = set(y.split())\n",
        "\n",
        "  shared = x.intersection(y)\n",
        "  union = x.union(y)\n",
        "  return round(len(shared) / len(union), 2)"
      ],
      "metadata": {
        "id": "-WUT3rJb6jL_"
      },
      "execution_count": 5,
      "outputs": []
    },
    {
      "cell_type": "code",
      "source": [
        "jaccard(c, b)"
      ],
      "metadata": {
        "colab": {
          "base_uri": "https://localhost:8080/"
        },
        "id": "7TBdI7UE65xo",
        "outputId": "bd442fe1-8529-469d-f9d8-3e1113ee0e4a"
      },
      "execution_count": 6,
      "outputs": [
        {
          "output_type": "execute_result",
          "data": {
            "text/plain": [
              "0.07"
            ]
          },
          "metadata": {},
          "execution_count": 6
        }
      ]
    },
    {
      "cell_type": "code",
      "source": [
        "import numpy as np"
      ],
      "metadata": {
        "id": "IkPAxraS68Te"
      },
      "execution_count": 7,
      "outputs": []
    },
    {
      "cell_type": "code",
      "source": [
        "# TF-IDF\n",
        "docs = [a, b, c]\n",
        "\n",
        "def tfidf(word: str, sentence: str) -> int:\n",
        "  tf = sentence.count(word) / len(sentence)\n",
        "  idf = np.log10(len(docs) / sum([1 for doc in docs if word in doc]))\n",
        "  return round(tf*idf, 4)"
      ],
      "metadata": {
        "id": "ce5klCKL-fyR"
      },
      "execution_count": 19,
      "outputs": []
    },
    {
      "cell_type": "code",
      "source": [
        "tfidf('the', b)"
      ],
      "metadata": {
        "colab": {
          "base_uri": "https://localhost:8080/"
        },
        "id": "r2-ZWF6WBjcv",
        "outputId": "c1883a1d-a69c-4c85-c574-5526a20c1371"
      },
      "execution_count": 23,
      "outputs": [
        {
          "output_type": "execute_result",
          "data": {
            "text/plain": [
              "0.004"
            ]
          },
          "metadata": {},
          "execution_count": 23
        }
      ]
    },
    {
      "cell_type": "code",
      "source": [
        "v = a+\" \"+ b +\" \"+ c\n",
        "vocab = set(v.replace('.', '').split())"
      ],
      "metadata": {
        "id": "W3HzOj3aBqyc"
      },
      "execution_count": 33,
      "outputs": []
    },
    {
      "cell_type": "code",
      "source": [
        "vocab"
      ],
      "metadata": {
        "colab": {
          "base_uri": "https://localhost:8080/"
        },
        "id": "FuRAMGpDCJdR",
        "outputId": "9e598c69-d112-41ec-ed8d-e006a6f2e115"
      },
      "execution_count": 34,
      "outputs": [
        {
          "output_type": "execute_result",
          "data": {
            "text/plain": [
              "{'He',\n",
              " 'She',\n",
              " 'When',\n",
              " 'a',\n",
              " 'about',\n",
              " 'around,',\n",
              " 'at',\n",
              " 'bad',\n",
              " 'beach',\n",
              " 'complete',\n",
              " 'day',\n",
              " 'dullness',\n",
              " 'found',\n",
              " 'gossip',\n",
              " 'have',\n",
              " 'his',\n",
              " 'idea',\n",
              " 'important',\n",
              " 'interesting',\n",
              " 'is',\n",
              " 'learned',\n",
              " 'lesson',\n",
              " 'nobody',\n",
              " 'on',\n",
              " 'people',\n",
              " 'picnic',\n",
              " 'that',\n",
              " 'the',\n",
              " 'them',\n",
              " 'trees',\n",
              " 'under',\n",
              " 'walked',\n",
              " 'who',\n",
              " 'windy'}"
            ]
          },
          "metadata": {},
          "execution_count": 34
        }
      ]
    },
    {
      "cell_type": "code",
      "source": [
        "vec_a = []\n",
        "vec_b = []\n",
        "vec_c = []\n",
        "\n",
        "for word in vocab:\n",
        "  vec_a.append(tfidf(word, a))\n",
        "  vec_b.append(tfidf(word, b))\n",
        "  vec_c.append(tfidf(word, c))"
      ],
      "metadata": {
        "id": "TpGs-YFtCjMg"
      },
      "execution_count": 35,
      "outputs": []
    },
    {
      "cell_type": "code",
      "source": [
        "arrays = [np.array(vec_a) ,np.array(vec_b) ,np.array(vec_c)]\n",
        "tf_idf_feature = np.stack(arrays, axis=0)"
      ],
      "metadata": {
        "id": "lbtP5gZuDFOh"
      },
      "execution_count": 39,
      "outputs": []
    },
    {
      "cell_type": "code",
      "source": [
        "tf_idf_feature"
      ],
      "metadata": {
        "colab": {
          "base_uri": "https://localhost:8080/"
        },
        "id": "cP5WnS_tDGoF",
        "outputId": "608c12af-cf77-42e9-d50b-003ed9753f94"
      },
      "execution_count": 43,
      "outputs": [
        {
          "output_type": "execute_result",
          "data": {
            "text/plain": [
              "array([[0.    , 0.    , 0.    , 0.0108, 0.    , 0.    , 0.    , 0.    ,\n",
              "        0.    , 0.    , 0.    , 0.    , 0.    , 0.0108, 0.    , 0.    ,\n",
              "        0.0108, 0.    , 0.    , 0.    , 0.    , 0.    , 0.    , 0.    ,\n",
              "        0.    , 0.    , 0.0108, 0.    , 0.0108, 0.    , 0.    , 0.0108,\n",
              "        0.    , 0.    ],\n",
              "       [0.    , 0.    , 0.    , 0.    , 0.    , 0.022 , 0.0108, 0.0054,\n",
              "        0.    , 0.0054, 0.    , 0.0054, 0.0054, 0.    , 0.    , 0.0054,\n",
              "        0.    , 0.0054, 0.0054, 0.0054, 0.    , 0.    , 0.    , 0.004 ,\n",
              "        0.0054, 0.0054, 0.    , 0.    , 0.    , 0.    , 0.0054, 0.    ,\n",
              "        0.    , 0.0108],\n",
              "       [0.0057, 0.0057, 0.0057, 0.    , 0.0057, 0.0084, 0.    , 0.    ,\n",
              "        0.0057, 0.    , 0.0057, 0.    , 0.    , 0.    , 0.    , 0.    ,\n",
              "        0.    , 0.    , 0.    , 0.    , 0.0057, 0.0057, 0.0057, 0.0063,\n",
              "        0.    , 0.    , 0.    , 0.0057, 0.    , 0.0057, 0.    , 0.    ,\n",
              "        0.0057, 0.    ]])"
            ]
          },
          "metadata": {},
          "execution_count": 43
        }
      ]
    },
    {
      "cell_type": "code",
      "source": [
        "#BM25\n",
        "\n",
        "docs = [a, b, c]\n",
        "avgdl = sum(len(sentence) for sentence in docs) / len(docs)\n",
        "N = len(docs)\n",
        "\n",
        "def bm25(word, sentence, k=1.2, b=0.75):\n",
        "  freq = sentence.count(word)\n",
        "  tf = (freq * (k + 1 )) / (freq + k * (1 - b + b * len(sentence) / avgdl))\n",
        "  N_q = sum([1 for doc in docs if word in doc])\n",
        "  idf = np.log(((N - N_q + 0.5) / (N_q + 0.5)) + 1)\n",
        "  return round(tf*idf, 4)"
      ],
      "metadata": {
        "id": "sxY6WXNpDwiF"
      },
      "execution_count": 45,
      "outputs": []
    },
    {
      "cell_type": "code",
      "source": [
        "bm25('is', a)"
      ],
      "metadata": {
        "colab": {
          "base_uri": "https://localhost:8080/"
        },
        "id": "JSUOmoAlFqTc",
        "outputId": "0c0c0eb2-691b-419f-93cd-283a0a0d10f8"
      },
      "execution_count": 46,
      "outputs": [
        {
          "output_type": "execute_result",
          "data": {
            "text/plain": [
              "0.0"
            ]
          },
          "metadata": {},
          "execution_count": 46
        }
      ]
    },
    {
      "cell_type": "code",
      "source": [
        "#S-BERT\n",
        "\n",
        "from sentence_transformers import SentenceTransformer\n",
        "\n",
        "model = SentenceTransformer('paraphrase-MiniLM-L6-v2')"
      ],
      "metadata": {
        "colab": {
          "base_uri": "https://localhost:8080/",
          "height": 17,
          "referenced_widgets": [
            "7704505c743c4ba5ba3c07938eedb562",
            "05e33e669a7940c4b1c9ac66c2ac4f60",
            "6e6834cccaa44a0ca1c6c0a08b83f2c9",
            "9f09e12610ad4ea68b1ff4b5467614cd",
            "08fb86307eee4ea2a5cb8e0697b037d9",
            "c2062a5c33c04852b85d698c565532a0",
            "1f2034d3094f4fcea93df03d668f4853",
            "e338ca0ddecc441e9a0b6117437a508c",
            "e6131a9fb56849e49b65f221765d60a2",
            "6c63537574334817a6690627a7f18b68",
            "4eebc04a364c4daca0a43b048cb4c8fa",
            "9e0d675919a0439b80f6f1d27acc16e9"
          ]
        },
        "id": "8AQHTrwvFywL",
        "outputId": "c75aa262-4db9-4d90-c7d4-ff6beda36370"
      },
      "execution_count": 49,
      "outputs": [
        {
          "output_type": "display_data",
          "data": {
            "application/vnd.jupyter.widget-view+json": {
              "model_id": "7704505c743c4ba5ba3c07938eedb562",
              "version_minor": 0,
              "version_major": 2
            },
            "text/plain": [
              "Downloading:   0%|          | 0.00/690 [00:00<?, ?B/s]"
            ]
          },
          "metadata": {}
        },
        {
          "output_type": "display_data",
          "data": {
            "application/vnd.jupyter.widget-view+json": {
              "model_id": "05e33e669a7940c4b1c9ac66c2ac4f60",
              "version_minor": 0,
              "version_major": 2
            },
            "text/plain": [
              "Downloading:   0%|          | 0.00/3.69k [00:00<?, ?B/s]"
            ]
          },
          "metadata": {}
        },
        {
          "output_type": "display_data",
          "data": {
            "application/vnd.jupyter.widget-view+json": {
              "model_id": "6e6834cccaa44a0ca1c6c0a08b83f2c9",
              "version_minor": 0,
              "version_major": 2
            },
            "text/plain": [
              "Downloading:   0%|          | 0.00/629 [00:00<?, ?B/s]"
            ]
          },
          "metadata": {}
        },
        {
          "output_type": "display_data",
          "data": {
            "application/vnd.jupyter.widget-view+json": {
              "model_id": "9f09e12610ad4ea68b1ff4b5467614cd",
              "version_minor": 0,
              "version_major": 2
            },
            "text/plain": [
              "Downloading:   0%|          | 0.00/122 [00:00<?, ?B/s]"
            ]
          },
          "metadata": {}
        },
        {
          "output_type": "display_data",
          "data": {
            "application/vnd.jupyter.widget-view+json": {
              "model_id": "08fb86307eee4ea2a5cb8e0697b037d9",
              "version_minor": 0,
              "version_major": 2
            },
            "text/plain": [
              "Downloading:   0%|          | 0.00/229 [00:00<?, ?B/s]"
            ]
          },
          "metadata": {}
        },
        {
          "output_type": "display_data",
          "data": {
            "application/vnd.jupyter.widget-view+json": {
              "model_id": "c2062a5c33c04852b85d698c565532a0",
              "version_minor": 0,
              "version_major": 2
            },
            "text/plain": [
              "Downloading:   0%|          | 0.00/90.9M [00:00<?, ?B/s]"
            ]
          },
          "metadata": {}
        },
        {
          "output_type": "display_data",
          "data": {
            "application/vnd.jupyter.widget-view+json": {
              "model_id": "1f2034d3094f4fcea93df03d668f4853",
              "version_minor": 0,
              "version_major": 2
            },
            "text/plain": [
              "Downloading:   0%|          | 0.00/53.0 [00:00<?, ?B/s]"
            ]
          },
          "metadata": {}
        },
        {
          "output_type": "display_data",
          "data": {
            "application/vnd.jupyter.widget-view+json": {
              "model_id": "e338ca0ddecc441e9a0b6117437a508c",
              "version_minor": 0,
              "version_major": 2
            },
            "text/plain": [
              "Downloading:   0%|          | 0.00/112 [00:00<?, ?B/s]"
            ]
          },
          "metadata": {}
        },
        {
          "output_type": "display_data",
          "data": {
            "application/vnd.jupyter.widget-view+json": {
              "model_id": "e6131a9fb56849e49b65f221765d60a2",
              "version_minor": 0,
              "version_major": 2
            },
            "text/plain": [
              "Downloading:   0%|          | 0.00/466k [00:00<?, ?B/s]"
            ]
          },
          "metadata": {}
        },
        {
          "output_type": "display_data",
          "data": {
            "application/vnd.jupyter.widget-view+json": {
              "model_id": "6c63537574334817a6690627a7f18b68",
              "version_minor": 0,
              "version_major": 2
            },
            "text/plain": [
              "Downloading:   0%|          | 0.00/314 [00:00<?, ?B/s]"
            ]
          },
          "metadata": {}
        },
        {
          "output_type": "display_data",
          "data": {
            "application/vnd.jupyter.widget-view+json": {
              "model_id": "4eebc04a364c4daca0a43b048cb4c8fa",
              "version_minor": 0,
              "version_major": 2
            },
            "text/plain": [
              "Downloading:   0%|          | 0.00/232k [00:00<?, ?B/s]"
            ]
          },
          "metadata": {}
        },
        {
          "output_type": "display_data",
          "data": {
            "application/vnd.jupyter.widget-view+json": {
              "model_id": "9e0d675919a0439b80f6f1d27acc16e9",
              "version_minor": 0,
              "version_major": 2
            },
            "text/plain": [
              "Downloading:   0%|          | 0.00/190 [00:00<?, ?B/s]"
            ]
          },
          "metadata": {}
        }
      ]
    },
    {
      "cell_type": "code",
      "source": [
        "sentences = [a, b, c]\n",
        "sentence_embeddings = model.encode(sentences)"
      ],
      "metadata": {
        "id": "8fkVKcCYHyU1"
      },
      "execution_count": 52,
      "outputs": []
    },
    {
      "cell_type": "code",
      "source": [
        "sentence_embeddings.shape"
      ],
      "metadata": {
        "colab": {
          "base_uri": "https://localhost:8080/"
        },
        "id": "OAhaEYb2IOvr",
        "outputId": "d994e956-9948-4bc4-c313-3000562b086e"
      },
      "execution_count": 55,
      "outputs": [
        {
          "output_type": "execute_result",
          "data": {
            "text/plain": [
              "(3, 384)"
            ]
          },
          "metadata": {},
          "execution_count": 55
        }
      ]
    },
    {
      "cell_type": "code",
      "source": [
        "from sklearn.metrics.pairwise import cosine_similarity"
      ],
      "metadata": {
        "id": "vOeu-CUjIdLw"
      },
      "execution_count": 56,
      "outputs": []
    },
    {
      "cell_type": "code",
      "source": [
        "scores = np.zeros((sentence_embeddings.shape[0], sentence_embeddings.shape[0]))\n",
        "for i in range(sentence_embeddings.shape[0]):\n",
        "  scores[i, :] = cosine_similarity(\n",
        "     [sentence_embeddings[i]], \n",
        "     sentence_embeddings \n",
        "  )[0]"
      ],
      "metadata": {
        "id": "VbY1s4msIxa1"
      },
      "execution_count": 57,
      "outputs": []
    },
    {
      "cell_type": "code",
      "source": [
        "scores"
      ],
      "metadata": {
        "colab": {
          "base_uri": "https://localhost:8080/"
        },
        "id": "T1olOtUkJOYm",
        "outputId": "c395c75c-1f9b-4ffc-f9b9-ddfd6adb0983"
      },
      "execution_count": 58,
      "outputs": [
        {
          "output_type": "execute_result",
          "data": {
            "text/plain": [
              "array([[1.        , 0.22377595, 0.23841505],\n",
              "       [0.22377595, 1.        , 0.23110545],\n",
              "       [0.23841506, 0.23110542, 1.        ]])"
            ]
          },
          "metadata": {},
          "execution_count": 58
        }
      ]
    }
  ]
}